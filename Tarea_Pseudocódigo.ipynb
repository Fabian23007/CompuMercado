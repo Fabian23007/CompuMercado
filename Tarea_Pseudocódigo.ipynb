{
  "nbformat": 4,
  "nbformat_minor": 0,
  "metadata": {
    "colab": {
      "provenance": [],
      "authorship_tag": "ABX9TyPI52xzaPz7LPA/tql7wyjB",
      "include_colab_link": true
    },
    "kernelspec": {
      "name": "python3",
      "display_name": "Python 3"
    },
    "language_info": {
      "name": "python"
    }
  },
  "cells": [
    {
      "cell_type": "markdown",
      "metadata": {
        "id": "view-in-github",
        "colab_type": "text"
      },
      "source": [
        "<a href=\"https://colab.research.google.com/github/Fabian23007/CompuMercado/blob/main/Tarea_Pseudoc%C3%B3digo.ipynb\" target=\"_parent\"><img src=\"https://colab.research.google.com/assets/colab-badge.svg\" alt=\"Open In Colab\"/></a>"
      ]
    },
    {
      "cell_type": "markdown",
      "source": [
        "# Algoritmos y pseudocódigo\n",
        "## _Fabian oviedo_\n",
        "## _ID: 000577288_\n",
        "## _Email: fabian.oviedog@upb.edu.co_\n"
      ],
      "metadata": {
        "id": "ED45y7TwcQYw"
      }
    },
    {
      "cell_type": "markdown",
      "source": [
        "## 1. Resistencias\n",
        "### Descripción: Desarrolla un algoritmo que tome como entrada un valor 𝑛 que indica el número de resistencias en paralelo, el valor de cada una de ellas en ohmios, y calcule la resistencia equivalente.\n",
        "\n",
        " #### Algoritmo\n",
        "1. Pedir al usuario los tres valores de la resistencia (r1,r2,r3)\n",
        "2. Procesar las entradas por la ecuación Req= (1/r1)+(1/r2)+(1/r3)\n",
        "3. Presentar en la pantalla Req\n",
        "\n",
        "## Pseudocódigo\n",
        "```\n",
        "Start\n",
        "  Declare  real r1\n",
        "  Declare  real r2\n",
        "  Declare  real r3\n",
        "  Declare  real Req\n",
        "\n",
        "  \n",
        "  display \"ingrese el valor de la primera resistencia:\"\n",
        "  input r1\n",
        "  display \"ingrese el valor de la segunda resistencia:\"\n",
        "  input r2\n",
        "  display \"ingrese el valor de la tercera resistencia:\"\n",
        "  input r3\n",
        "  \n",
        "  Set Req= (1/r1) + (1/r2) + (1/r3)\n",
        "  display \"Su resistencia equivalente es, en ohmios,:\",Req\n",
        "End\n",
        "```"
      ],
      "metadata": {
        "id": "ohWBLYCgcSrH"
      }
    },
    {
      "cell_type": "code",
      "execution_count": 2,
      "metadata": {
        "colab": {
          "base_uri": "https://localhost:8080/"
        },
        "id": "QEzsByQlcH7S",
        "outputId": "2b226dc0-a496-4abc-dda9-986a5013a231"
      },
      "outputs": [
        {
          "output_type": "stream",
          "name": "stdout",
          "text": [
            "ingrese el valor de la primera resistencia:12\n",
            "ingrese el valor de la segunda resistencia:12\n",
            "ingrese el valor de la tercera resistencia:12\n",
            "Su resistencia equivalente es, en ohmios,: 0.25\n"
          ]
        }
      ],
      "source": [
        "r1=float(input(\"ingrese el valor de la primera resistencia:\"))\n",
        "r2=float(input(\"ingrese el valor de la segunda resistencia:\"))\n",
        "r3=float(input(\"ingrese el valor de la tercera resistencia:\"))\n",
        "Req = (1/r1) + (1/r2) + (1/r3)\n",
        "print(\"Su resistencia equivalente es, en ohmios,:\",Req)"
      ]
    },
    {
      "cell_type": "markdown",
      "source": [
        "## 2. Potencia Disipada\n",
        "\n",
        "### Descripción: Escribe un algoritmo que tome como entrada el valor de la resistencia (𝑅) en ohmios y el valor de la corriente (𝐼) en amperios, y calcule la potencia disipada en el circuito utilizando la ley de Joule 𝑃=𝐼2𝑅.\n",
        "\n",
        "#### Algoritmo\n",
        "\n",
        "1. pedir que, el usuario, ingrese el valor de la resistencia, en ohmios.\n",
        "2. pedir que ingrese el valor de la corriente, en amperios.\n",
        "3. reemplazar y hacer la ecuación P= (I^2)(R)\n",
        "4. presentar, la ecuación, en pantalla.\n",
        "\n",
        "```\n",
        "Start\n",
        "  // pseudocódigo\n",
        "  Declare real I\n",
        "  Declare real R\n",
        "  Declare real P\n",
        "\n",
        "  display \"ingrese el valor de la resistencia, en ohmios: \"\n",
        "  input R\n",
        "  display \"ingrese el valor de la corriente, en amperios: \"\n",
        "  input I\n",
        "\n",
        "  set P= (I**2)(R)\n",
        "  Display \"su Potencia disipada, en vatios, es:\", P\n",
        "End\n",
        "```"
      ],
      "metadata": {
        "id": "hO_37KexcaZ6"
      }
    },
    {
      "cell_type": "code",
      "source": [
        "R=float(input(\"ingrese el valor de la resistencia, en ohmios: \"))\n",
        "I=float(input(\"ingrese el valor de la corriente, en amperios: \"))\n",
        "P= (I**2)*(R)\n",
        "print(\"su Potencia disipada, en vatios, es:\", P)"
      ],
      "metadata": {
        "colab": {
          "base_uri": "https://localhost:8080/"
        },
        "id": "9Z4MYrF9ccMi",
        "outputId": "3331dc54-644a-45b5-a456-78ac623e54f8"
      },
      "execution_count": 3,
      "outputs": [
        {
          "output_type": "stream",
          "name": "stdout",
          "text": [
            "ingrese el valor de la resistencia, en ohmios: 12\n",
            "ingrese el valor de la corriente, en amperios: 12\n",
            "su Potencia disipada, en vatios, es: 1728.0\n"
          ]
        }
      ]
    },
    {
      "cell_type": "markdown",
      "source": [
        "##3.  Corriente eléctrica en una resistencia.\n",
        "### Descripción: Escribe un algoritmo que tome como entrada el valor de la tensión (𝑉) en voltios y el valor de la resistencia (𝑅) en ohmios, y calcule la corriente eléctrica (𝐼) que circula por a través de ella utilizando la ley de Ohm 𝑉=𝑅*𝐼\n",
        "\n",
        "#### Algoritmo\n",
        "\n",
        "1. Solicitar al usuario el valor de la tension (V), en voltios.\n",
        "2. Solicitar el valor de la resistencia (R), en Ohmios\n",
        "3. Realizar la operacion, para hallar la Corriente elecrica (I) en amperios, V/R = I\n",
        "4. Expresar el resultado,en amperios, en la interfaz del usuario\n",
        "\n",
        "```\n",
        "Start\n",
        "// Pseudocódigo\n",
        "  declare real V\n",
        "  declare real R\n",
        "  declare real I\n",
        "\n",
        "  display \"Ingrese el valor de la tensión, en voltios: \"\n",
        "  input V\n",
        "\n",
        "  display \"Ingrese el valor de la resistencia, en Ohmios: \"\n",
        "  input R\n",
        "\n",
        "  set I = V/R\n",
        "  \n",
        "  display \" Su Corriente, en amperios, es de:\",I\n",
        "\n",
        "End\n",
        "\n",
        "```"
      ],
      "metadata": {
        "id": "d3VAOb40cix8"
      }
    },
    {
      "cell_type": "code",
      "source": [
        "V=float(input(\"Ingrese el valor de la tensión, en voltios: \"))\n",
        "R=float(input(\"Ingrese el valor de la resistencia, en Ohmios: \"))\n",
        "I = V/R\n",
        "print( \"Su Corriente, en amperios, es de:\", I)"
      ],
      "metadata": {
        "id": "vSdGgSyXckrw"
      },
      "execution_count": null,
      "outputs": []
    },
    {
      "cell_type": "markdown",
      "source": [
        "## 4. Constante de tiempo en un circuito RC\n",
        "\n",
        "### Descripción: Desarrolla un algoritmo que tome como entrada el valor de la resistencia (𝑅) en ohmios y el valor de la capacitancia (𝐶), y calcule la constante de tiempo (𝜏) en un circuito RC utilizando la fórmula.\n",
        "\n",
        "### Algoritmo\n",
        "\n",
        "1. Pedir al usuario que ingrese el valor de la resistencia, en ohmios.\n",
        "2. Pedir al usuario que ingrese el valor de la capacitancia, en faradios.\n",
        "3. Realizar la operación t= R*C.\n",
        "4. Presentar el resultado, en segundos, en la pantalla del usuario.\n",
        "\n",
        "```\n",
        "Start\n",
        "\n",
        "  declare real R\n",
        "  declare real C\n",
        "  declare real t\n",
        "  display \"ingrese el valor de la resistencia, en ohmios:\"\n",
        "  input R\n",
        "\n",
        "  display \"ingrese el valor de la capacitancia, en faradios:\"\n",
        "  input C\n",
        "\n",
        "  set t= R*C\n",
        "  \n",
        "  display \"su resultado,en segundos, es de:\",t\n",
        "  \n",
        "End\n",
        "\n",
        "```"
      ],
      "metadata": {
        "id": "jM53KN1Jcn5X"
      }
    },
    {
      "cell_type": "code",
      "source": [
        "R=float(input(\"ingrese el valor de la resistencia, en ohmios:\"))\n",
        "C=float(input(\"ingrese el valor de la capacitancia, en faradios:\"))\n",
        "t= R*C\n",
        "print(\"su resultado,en segundos, es de:\",t)"
      ],
      "metadata": {
        "colab": {
          "base_uri": "https://localhost:8080/"
        },
        "id": "tcgtSNDNcqZY",
        "outputId": "4576e9b0-e20c-4d9c-dea8-9b5fa187d5a8"
      },
      "execution_count": 4,
      "outputs": [
        {
          "output_type": "stream",
          "name": "stdout",
          "text": [
            "ingrese el valor de la resistencia, en ohmios:12\n",
            "ingrese el valor de la capacitancia, en faradios:12\n",
            "su resultado,en segundos, es de: 144.0\n"
          ]
        }
      ]
    },
    {
      "cell_type": "markdown",
      "source": [
        "## 5.Consumo de energía en un periodo de tiempo\n",
        "\n",
        "### Descripción: Desarrolla un algoritmo que tome como entrada un número de horas (𝑛) y 𝑛 valores de potencia promedio por hora en 𝑘𝑊ℎ para calcular la energía total consumida en el periodo indicado. Para este caso, la energía consumida cada hora tiene el mismo valor de la potencia promedio por hora, y la energía total es la sumatoria de estas.\n",
        "\n",
        "#### Algoritmo\n",
        "1. Pedir al usuario el numero de horas (en este caso, 3).\n",
        "2. pedir los valores de la potencia promedio por hora,en kWh (solo tres valores).\n",
        "3. realizar la operación x+y+z (siendo cada una potencia promedio)\n",
        "4. Presentar el resultado obtenido en el paso anterior\n",
        "\n",
        "```\n",
        "Start\n",
        "\n",
        "  declare real W\n",
        "  declare real K\n",
        "  declare real H\n",
        "  declare cons t = 3\n",
        "  declare real P\n",
        "  \n",
        "\n",
        "  display \"Ingrese su numeros de horas es 3\"\n",
        "\n",
        "\n",
        "  display \"ingrese el primer valor de potencia promedio: \"\n",
        "  input W\n",
        "\n",
        "  display \"ingrese el segundo valor de potencia promedio: \"\n",
        "  input K\n",
        "\n",
        "  display \"ingrese el primer valor de potencia promedio: \"\n",
        "  input H\n",
        "\n",
        "  set P= W + K + H\n",
        "  \n",
        "  display \"La energía total consumida en el periodo indicado es: \", P\n",
        "\n",
        "  End\n",
        "  ```"
      ],
      "metadata": {
        "id": "CznU9iyTcvK_"
      }
    },
    {
      "cell_type": "code",
      "source": [
        "print(\"Ingrese su numeros de horas es 3\")\n",
        "W=float(input(\"ingrese el primer valor de potencia promedio: \"))\n",
        "K=float(input(\"ingrese el segundo valor de potencia promedio: \"))\n",
        "H=float(input(\"ingrese el primer valor de potencia promedio: \"))\n",
        "print(\"La energía total consumida en el periodo indicado es: \", W + K + H)"
      ],
      "metadata": {
        "colab": {
          "base_uri": "https://localhost:8080/"
        },
        "id": "Iwr3KFeucxGY",
        "outputId": "180e8797-bda3-4887-f1a4-aa13f57e2c0d"
      },
      "execution_count": 6,
      "outputs": [
        {
          "output_type": "stream",
          "name": "stdout",
          "text": [
            "Ingrese su numeros de horas es 3\n",
            "ingrese el primer valor de potencia promedio: 12\n",
            "ingrese el segundo valor de potencia promedio: 12\n",
            "ingrese el primer valor de potencia promedio: 12\n",
            "La energía total consumida en el periodo indicado es:  36.0\n"
          ]
        }
      ]
    }
  ]
}