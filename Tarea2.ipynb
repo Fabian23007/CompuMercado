{
  "nbformat": 4,
  "nbformat_minor": 0,
  "metadata": {
    "colab": {
      "provenance": [],
      "include_colab_link": true
    },
    "kernelspec": {
      "name": "python3",
      "display_name": "Python 3"
    },
    "language_info": {
      "name": "python"
    }
  },
  "cells": [
    {
      "cell_type": "markdown",
      "metadata": {
        "id": "view-in-github",
        "colab_type": "text"
      },
      "source": [
        "<a href=\"https://colab.research.google.com/github/Fabian23007/CompuMercado/blob/main/Tarea2.ipynb\" target=\"_parent\"><img src=\"https://colab.research.google.com/assets/colab-badge.svg\" alt=\"Open In Colab\"/></a>"
      ]
    },
    {
      "cell_type": "markdown",
      "source": [
        "#Actividad 1"
      ],
      "metadata": {
        "id": "lznZDFRGmqNO"
      }
    },
    {
      "cell_type": "code",
      "execution_count": null,
      "metadata": {
        "id": "TDZjJl2mjn8q"
      },
      "outputs": [],
      "source": [
        "name = input(\"Hola, ¿Cual es tu nombre?: \")\n",
        "age = input(\"¿Cual es tu edad?: \")\n",
        "place = input(\"¿Cual es tu lugar de procedencia?: \")\n",
        "print(\"el usuario se llama \" + name + \", procede de \" + place + \", y tiene \" + age + \" años.\")"
      ]
    },
    {
      "cell_type": "markdown",
      "source": [
        "#Actividad 2"
      ],
      "metadata": {
        "id": "pv0WZCZzGCPE"
      }
    },
    {
      "cell_type": "code",
      "source": [
        "#Variables del ortoedro:\n",
        "a = float(input(\"Ingresa el largo del ortoedro (valor en metros): \"))\n",
        "b = float(input(\"Ingresa el ancho del ortoedro (valor en metros): \"))\n",
        "c = float(input(\"Ingresa la profundidad del ortoedro (valor en metros): \"))\n",
        "print(\"\\n\")\n",
        "\n",
        "#------------------------------------------------------------------------------\n",
        "#Ortoedro formulas (area y volumen)\n",
        "area_ortoedro = 2*(a*b+a*c+b*c)\n",
        "vol_ortoedro = a*b*c\n",
        "#------------------------------------------------------------------------------\n",
        "\n",
        "#Convertimos los números a texto para concatenar:\n",
        "area_ortoedro = str(area_ortoedro)\n",
        "vol_ortoedro = str(vol_ortoedro)\n",
        "\n",
        "#------------------------------------------------------------------------------\n",
        "print(\"El area de el ortoedro es de: \"+area_ortoedro+\" m^2\")\n",
        "print(\"El volumen del ortoedro es de: \"+vol_ortoedro+\" m^3\")\n",
        "print(\"\\n\")\n",
        "\n",
        "#------------------------------------------------------------------------------\n",
        "#Variables del cilindro:\n",
        "r = float(input(\"Ingresa el radio del cilindro (valor en metros): \"))\n",
        "h = float(input(\"Ingresar la altura del cilindro (valor en metros): \"))\n",
        "pi = 3.141592\n",
        "print(\"\\n\")\n",
        "\n",
        "#------------------------------------------------------------------------------\n",
        "#Cilindro formulas (area y volumen)\n",
        "area_cilindro = 2*pi*r*h + 2*pi*r**2\n",
        "vol_cilindro = pi*r**2*h\n",
        "#------------------------------------------------------------------------------\n",
        "#Convertimos los números a texto para concatenar:\n",
        "area_cilindro = str(area_cilindro)\n",
        "vol_cilindro = str(vol_cilindro)\n",
        "\n",
        "print(\"El area de el cilindro es de: \"+area_cilindro+\" m^2\")\n",
        "print(\"El volumen del cilindro es de: \"+vol_cilindro+\" m^3\")\n",
        "print(\"\\n\")\n",
        "\n",
        "#------------------------------------------------------------------------------\n",
        "#Variables de la esfera\n",
        "ratio = float(input(\"Ingresa el valor del radio de la esfera (valor en metros): \"))\n",
        "print(\"\\n\")\n",
        "\n",
        "#------------------------------------------------------------------------------\n",
        "#Esfera formulas (area y volumen)\n",
        "area_sphere = 4*pi*ratio**2\n",
        "vol_sphere = (4/3)*pi*ratio**3\n",
        "\n",
        "#------------------------------------------------------------------------------\n",
        "#Convertimos los números a texto para concatenar:\n",
        "area_sphere = str(area_sphere)\n",
        "vol_sphere = str(vol_sphere)\n",
        "\n",
        "print(\"El area de la esfera es de: \"+area_sphere+\" m^2\")\n",
        "print(\"El volumen de la esfera es de: \"+vol_sphere+\" m^3\")"
      ],
      "metadata": {
        "id": "x-c1QiOJGBCD"
      },
      "execution_count": null,
      "outputs": []
    }
  ]
}