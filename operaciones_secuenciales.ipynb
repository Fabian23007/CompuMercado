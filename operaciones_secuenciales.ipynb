{
  "nbformat": 4,
  "nbformat_minor": 0,
  "metadata": {
    "colab": {
      "provenance": [],
      "include_colab_link": true
    },
    "kernelspec": {
      "name": "python3",
      "display_name": "Python 3"
    },
    "language_info": {
      "name": "python"
    }
  },
  "cells": [
    {
      "cell_type": "markdown",
      "metadata": {
        "id": "view-in-github",
        "colab_type": "text"
      },
      "source": [
        "<a href=\"https://colab.research.google.com/github/Fabian23007/CompuMercado/blob/main/operaciones_secuenciales.ipynb\" target=\"_parent\"><img src=\"https://colab.research.google.com/assets/colab-badge.svg\" alt=\"Open In Colab\"/></a>"
      ]
    },
    {
      "cell_type": "markdown",
      "source": [
        "## Pseudocódigo\n",
        "### _Nombre: Fabian Oviedo, Javier Perez, Cristian Robayo, Yadiel López_\n",
        "### IDs: 000577288, 000575898, 000563245,000576591\n",
        "### Email: Fabian.oviedog@upb.edu.co, javier.perezs@upb.edu.co, cristian.robayo@upb.edu.co, yadiel.lopez@upb.edu.co"
      ],
      "metadata": {
        "id": "D6lzl_BdgKR2"
      }
    },
    {
      "cell_type": "markdown",
      "source": [
        "## 1. Venta de un Producto:\n",
        "Diseñar un programa que genere una factura de compra para un producto. El programa debe solicitar\n",
        "al usuario:\n",
        "\n",
        "• Nombre del cliente.\n",
        "\n",
        "• Identificación del cliente.\n",
        "\n",
        "• Nombre del producto.\n",
        "\n",
        "• Precio unitario del producto.\n",
        "\n",
        "Cantidad comprada.\n",
        "\n",
        "La factura debe mostrar:\n",
        "\n",
        "• Nombre de la tienda.\n",
        "\n",
        "• Número de factura (ejemplo: \"Factura de Venta No. 000\").\n",
        "\n",
        "• Datos del cliente (nombre e identificación).\n",
        "\n",
        "• Detalles del producto (nombre, precio unitario, cantidad comprada).\n",
        "\n",
        "• Resumen de la compra (base, IVA del 19% y valor total).\n",
        "\n",
        "Nota: el valor total es el precio unitario por la cantidad comprada.\n",
        "\n",
        "```\n",
        "Program 1. Venta de un Producto\n",
        "\n",
        "Start\n",
        "//pseudocódigo\n",
        "\n",
        "  //Variables\n",
        "  Declare str name\n",
        "  declare str ID\n",
        "  declare str name_of_thing\n",
        "  declare real cost\n",
        "  declare int amount\n",
        "  declare real Total\n",
        "  declare const real IVA = 0.19\n",
        "  declare real base\n",
        "\n",
        "// Entradas\n",
        "  Display \"ingrese su nombre\"\n",
        "  input name\n",
        "\n",
        "  Display \"ingrese su documento de identidad\"\n",
        "  input ID\n",
        "\n",
        "  Display \"ingrese el nombre del producto\"\n",
        "  input name_of_thing\n",
        "\n",
        "   Display \"ingrese la cantidad del producto\"\n",
        "  input amount\n",
        "\n",
        "  Display \"ingrese el precio del producto\"\n",
        "  input cost\n",
        "  \n",
        "  // Procesos\n",
        "\n",
        "  Set  summary_of_purchase = cost*amount + (cost*amount)*(IVA)\n",
        "\n",
        "  set base= summary_of_purchase/1,19\n",
        "\n",
        "  //salida\n",
        "  Display \" Compumercado,\n",
        "  display \" Factura de Venta No. 001\"\n",
        "  display \"name, ID\"\n",
        "  display \" name_of_thing,cost,amount\"\n",
        "  display \"Resumen de la compra\"\n",
        "  display \"base\"\n",
        "  display \"Iva del 19%\"\n",
        "  display \"Total\"\n",
        "  \n",
        "\n",
        "End\n",
        "```"
      ],
      "metadata": {
        "id": "ZO3636mcgyUo"
      }
    },
    {
      "cell_type": "code",
      "execution_count": null,
      "metadata": {
        "id": "rDpUaYEUfTnr"
      },
      "outputs": [],
      "source": [
        "#Entradas de datos y Variables\n",
        "name=input(\"ingrese su nombre: \")\n",
        "ID=int(input(\"ingrese su documento de identidad: \"))\n",
        "name_of_thing=input(\"ingrese el nombre del producto: \")\n",
        "amount=int(input(\"ingrese la cantidad del producto: \"))\n",
        "cost=float(input(\"ingrese el precio del producto: \"))\n",
        "Iva=0.19\n",
        "\n",
        "#Procesos matemáticos\n",
        "Total = cost*amount\n",
        "base= Total/1.19\n",
        "\n",
        "#salida\n",
        "print(\"Compumercado,\")\n",
        "print(\"Factura de Venta No. 001,\")\n",
        "print(name, ID,)\n",
        "print(name_of_thing, cost , amount)\n",
        "print( )\n",
        "print(\"Resumen de la compra:\")\n",
        "print(\"su precio base es de: \",base)\n",
        "print(\"Iva del 19%\")\n",
        "print(Total)"
      ]
    },
    {
      "cell_type": "markdown",
      "source": [
        "## 2. Calcular Utilidad:\n",
        "\n",
        "Diseñar un programa que calcule la utilidad de la venta de un producto en términos porcentuales. El programa debe solicitar al usuario:\n",
        "\n",
        "• Precio de compra del producto.\n",
        "\n",
        "• Precio de venta del producto.\n",
        "\n",
        "El programa debe mostrar:\n",
        "\n",
        "• Margen de operación y administrativo (15% del precio de venta).\n",
        "\n",
        "• Costo del producto (precio de compra + margen de operación y administrativo).\n",
        "\n",
        "• Utilidad absoluta (diferencia entre el precio de venta y el costo del producto).\n",
        "\n",
        "• Utilidad porcentual.\n",
        "```\n",
        "2.program calcular_utilidad\n",
        "start\n",
        "\n",
        "  Declare float precio_compra, precio_venta, margen_operacion, costo_producto, utilidad_absoluta, utilidad_porcentual\n",
        "\n",
        "  display\"Ingrese el valor de compra del producto:\"\n",
        "  input precio_compra\n",
        "\n",
        "  display\"Ingrese el valor de venta del producto:\"\n",
        "  input precio_venta\n",
        "\n",
        "  set margen_operacion = precio_venta * 0.15\n",
        "  set costo_producto = precio_compra + margen_operacion\n",
        "  set utilidad_absoluta = precio_venta - costo_producto\n",
        "  set utilidad_porcentual = (utilidad_absoluta / costo_producto) * 100\n",
        "\n",
        "  display\"el margen de operacion es: \", margen_operacion\n",
        "  display\"el costo del producto es: \", costo_producto\n",
        "  display\"la utilidad absoluta es: \", utilidad_absoluta\n",
        "  display\"la utilidad porcentual es del: \", utilidad_porcentual,\"%\"\n",
        "\n",
        "end\n",
        "```"
      ],
      "metadata": {
        "id": "O_3CIqHDYtnD"
      }
    },
    {
      "cell_type": "code",
      "source": [
        "#solicitar al usuario el precio de compra y el precio de venta\n",
        "precio_compra = float(input(\"Ingrese el valor de compra del producto: \"))\n",
        "precio_venta = float(input(\"Ingrese el valor de venta del producto: \"))\n",
        "\n",
        "#procesos\n",
        "margen_operacion = precio_venta * 0.15\n",
        "costo_producto = precio_compra + margen_operacion\n",
        "utilidad_absoluta = precio_venta - costo_producto\n",
        "utilidad_porcentual =  (utilidad_absoluta / costo_producto) * 100\n",
        "\n",
        "#Mostrar los resultados\n",
        "print(\"el margen de operacion es:\",margen_operacion)\n",
        "print(\"el costo del producto es:\",costo_producto)\n",
        "print(\"la utilidad absoluta es:\",utilidad_absoluta)\n",
        "print(\"la utilidad porcentual es del: \",utilidad_porcentual,\"%\")"
      ],
      "metadata": {
        "id": "0gWX1ZP0Ym0D"
      },
      "execution_count": null,
      "outputs": []
    },
    {
      "cell_type": "markdown",
      "source": [
        "## 3. Precio Promedio:\n",
        "Diseñar un programa que calcule el precio promedio de los tres productos más vendidos en la tienda a partir del nombre y precio de cada uno de los tres productos.\n",
        "\n",
        "```\n",
        "3.program precio promedio\n",
        "start\n",
        "  \n",
        "  declare str  nombre a = PORTÁTIL GAMING ASUS TUF FA506\n",
        "  declare str  nombre b = ASUS ZENBOOK 14 OLED\n",
        "  declare str  nombre c = ASUS TUF Gaming A15\n",
        "  declare real a = 3749900\n",
        "  declare real b = 4799900\n",
        "  declare real c = 4549900\n",
        "  declare real resultado\n",
        "  display \"el nombre del producto mas vendido: \", nombre a\n",
        "  display\"precio del producto\", a\n",
        "  display \"el nombre del segundo producto mas vendido: \", nombre b\n",
        "  display \"precio del producto\", b\n",
        "  display \"el nombre del tercer producto mas vendido: \", nombre c\n",
        "  display \"precio del producto\", c\n",
        "  set resultado = (a + b + c)/3\n",
        "  display \"Precio promedio de los tres productos mas vendidos: \", resultado\n",
        "end\n",
        "```  "
      ],
      "metadata": {
        "id": "KIX5Ab3O7b3D"
      }
    },
    {
      "cell_type": "code",
      "source": [
        "nombre_a = \"PORTÁTIL GAMING ASUS TUF FA506\"\n",
        "nombre_b = \"ASUS ZENBOOK 14 OLED\"\n",
        "nombre_c = \"ASUS TUF Gaming A15\"\n",
        "a = 3749900\n",
        "b = 4799900\n",
        "c = 4549900\n",
        "resultado = (a + b + c)/3\n",
        "print(\"el nombre del producto mas vendido: \", nombre_a)\n",
        "print(\"precio del producto\", a)\n",
        "print(\"el nombre del segundo producto mas vendido: \", nombre_b)\n",
        "print(\"precio del producto\", b)\n",
        "print(\"el nombre del tercer producto mas vendido: \", nombre_c)\n",
        "print(\"precio del producto\", c)\n",
        "print(\"Precio promedio de los tres productos mas vendidos: \", resultado)"
      ],
      "metadata": {
        "colab": {
          "base_uri": "https://localhost:8080/"
        },
        "id": "H-IR4uB07bfu",
        "outputId": "3b2f9b3f-e328-4747-f45e-330573e0d1eb"
      },
      "execution_count": null,
      "outputs": [
        {
          "output_type": "stream",
          "name": "stdout",
          "text": [
            "precion del producto mas vendido: 2500\n",
            "precion del segundo producto mas vendido: 2400\n",
            "ingresa el precion del tercer producto mas vendido: 1300\n",
            "Precio promedio de los tres productos mas vendidos:  2066.6666666666665\n"
          ]
        }
      ]
    }
  ]
}